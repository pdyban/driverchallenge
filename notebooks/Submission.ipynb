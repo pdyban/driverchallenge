{
 "cells": [
  {
   "cell_type": "code",
   "execution_count": 22,
   "metadata": {
    "collapsed": true
   },
   "outputs": [],
   "source": [
    "from csv import writer\n",
    "\n",
    "def create_submission(filename, features):\n",
    "    \"\"\"\n",
    "    Creates a csv-formatted file with the following syntax:\n",
    "    driver, trip, value -> driver_trip, value ? True : False\n",
    "    \"\"\"\n",
    "    with open(filename, 'w') as f:\n",
    "        w = writer(f)\n",
    "        w.writerow(['driver_trip', 'prob'])\n",
    "        for line in features:\n",
    "            index = '%d_%d' % (line[0], line[1])\n",
    "            w.writerow([index] + ['%d' % line[2]])\n",
    "    \n",
    "    print 'submission file written to', filename"
   ]
  },
  {
   "cell_type": "code",
   "execution_count": 6,
   "metadata": {
    "collapsed": true
   },
   "outputs": [],
   "source": [
    "# test submission"
   ]
  },
  {
   "cell_type": "code",
   "execution_count": 23,
   "metadata": {
    "collapsed": false
   },
   "outputs": [
    {
     "name": "stdout",
     "output_type": "stream",
     "text": [
      "submission file written to /tmp/submission_test.csv\n"
     ]
    }
   ],
   "source": [
    "features = [\n",
    " [ 1, 1.,          True],\n",
    " [ 1, 2.,          False],\n",
    " [ 1, 3. ,         False],\n",
    " [ 1, 4. ,         1],\n",
    " [ 1, 5. ,         True],\n",
    " [ 2, 6. ,         True],\n",
    " [ 2, 7. ,         False],\n",
    " [ 2, 8. ,         0.0],\n",
    " [ 2, 9. ,         False]]\n",
    "create_submission('/tmp/submission_test.csv', features)"
   ]
  }
 ],
 "metadata": {
  "kernelspec": {
   "display_name": "Python 2",
   "language": "python",
   "name": "python2"
  },
  "language_info": {
   "codemirror_mode": {
    "name": "ipython",
    "version": 2
   },
   "file_extension": ".py",
   "mimetype": "text/x-python",
   "name": "python",
   "nbconvert_exporter": "python",
   "pygments_lexer": "ipython2",
   "version": "2.7.6"
  }
 },
 "nbformat": 4,
 "nbformat_minor": 0
}
